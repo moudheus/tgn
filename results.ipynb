{
 "cells": [
  {
   "cell_type": "code",
   "execution_count": 11,
   "id": "b38a7aa3-e600-41ca-abc2-85267396c849",
   "metadata": {},
   "outputs": [],
   "source": [
    "from glob import glob\n",
    "import pandas as pd\n",
    "pd.options.display.float_format = \"{:,.2f}\".format"
   ]
  },
  {
   "cell_type": "code",
   "execution_count": 13,
   "id": "230abcc2-7dec-471f-817a-2743885c882b",
   "metadata": {},
   "outputs": [
    {
     "data": {
      "text/plain": [
       "(4, 33)"
      ]
     },
     "execution_count": 13,
     "metadata": {},
     "output_type": "execute_result"
    }
   ],
   "source": [
    "df = pd.concat([pd.read_json(path, lines=True) for path in glob('results/9095-*-metrics.json')])\n",
    "df.shape"
   ]
  },
  {
   "cell_type": "code",
   "execution_count": 14,
   "id": "2ff4a413-fe4a-4d94-9ab1-128fd38c689c",
   "metadata": {},
   "outputs": [],
   "source": [
    "#df.pivot(index='prefix', columns='data')"
   ]
  },
  {
   "cell_type": "code",
   "execution_count": 15,
   "id": "26bbb08b-c27e-4d93-82de-6f96cf16d702",
   "metadata": {},
   "outputs": [
    {
     "data": {
      "text/html": [
       "<div>\n",
       "<style scoped>\n",
       "    .dataframe tbody tr th:only-of-type {\n",
       "        vertical-align: middle;\n",
       "    }\n",
       "\n",
       "    .dataframe tbody tr th {\n",
       "        vertical-align: top;\n",
       "    }\n",
       "\n",
       "    .dataframe thead th {\n",
       "        text-align: right;\n",
       "    }\n",
       "</style>\n",
       "<table border=\"1\" class=\"dataframe\">\n",
       "  <thead>\n",
       "    <tr style=\"text-align: right;\">\n",
       "      <th></th>\n",
       "      <th>prefix</th>\n",
       "      <th>mrr</th>\n",
       "      <th>hit10</th>\n",
       "    </tr>\n",
       "    <tr>\n",
       "      <th>data</th>\n",
       "      <th></th>\n",
       "      <th></th>\n",
       "      <th></th>\n",
       "    </tr>\n",
       "  </thead>\n",
       "  <tbody>\n",
       "    <tr>\n",
       "      <th>lastfm</th>\n",
       "      <td>9095-tgn</td>\n",
       "      <td>0.46</td>\n",
       "      <td>0.72</td>\n",
       "    </tr>\n",
       "    <tr>\n",
       "      <th>mooc</th>\n",
       "      <td>9095-tgn</td>\n",
       "      <td>0.71</td>\n",
       "      <td>0.95</td>\n",
       "    </tr>\n",
       "    <tr>\n",
       "      <th>reddit</th>\n",
       "      <td>9095-tgn</td>\n",
       "      <td>0.72</td>\n",
       "      <td>0.89</td>\n",
       "    </tr>\n",
       "    <tr>\n",
       "      <th>wikipedia</th>\n",
       "      <td>9095-tgn</td>\n",
       "      <td>0.44</td>\n",
       "      <td>0.64</td>\n",
       "    </tr>\n",
       "  </tbody>\n",
       "</table>\n",
       "</div>"
      ],
      "text/plain": [
       "             prefix  mrr  hit10\n",
       "data                           \n",
       "lastfm     9095-tgn 0.46   0.72\n",
       "mooc       9095-tgn 0.71   0.95\n",
       "reddit     9095-tgn 0.72   0.89\n",
       "wikipedia  9095-tgn 0.44   0.64"
      ]
     },
     "execution_count": 15,
     "metadata": {},
     "output_type": "execute_result"
    }
   ],
   "source": [
    "cols = 'data prefix mrr hit10'.split()\n",
    "df[cols].set_index('data').sort_values('data mrr'.split(), ascending=False).groupby('data')[cols[1:]].first()"
   ]
  },
  {
   "cell_type": "code",
   "execution_count": 16,
   "id": "e5a55678-3959-452a-8ed1-dd96e0dd46dd",
   "metadata": {},
   "outputs": [
    {
     "data": {
      "text/html": [
       "<div>\n",
       "<style scoped>\n",
       "    .dataframe tbody tr th:only-of-type {\n",
       "        vertical-align: middle;\n",
       "    }\n",
       "\n",
       "    .dataframe tbody tr th {\n",
       "        vertical-align: top;\n",
       "    }\n",
       "\n",
       "    .dataframe thead th {\n",
       "        text-align: right;\n",
       "    }\n",
       "</style>\n",
       "<table border=\"1\" class=\"dataframe\">\n",
       "  <thead>\n",
       "    <tr style=\"text-align: right;\">\n",
       "      <th></th>\n",
       "      <th>data</th>\n",
       "      <th>prefix</th>\n",
       "      <th>mrr</th>\n",
       "      <th>hit10</th>\n",
       "    </tr>\n",
       "  </thead>\n",
       "  <tbody>\n",
       "    <tr>\n",
       "      <th>0</th>\n",
       "      <td>lastfm</td>\n",
       "      <td>9095-tgn</td>\n",
       "      <td>0.46</td>\n",
       "      <td>0.72</td>\n",
       "    </tr>\n",
       "    <tr>\n",
       "      <th>0</th>\n",
       "      <td>mooc</td>\n",
       "      <td>9095-tgn</td>\n",
       "      <td>0.71</td>\n",
       "      <td>0.95</td>\n",
       "    </tr>\n",
       "    <tr>\n",
       "      <th>0</th>\n",
       "      <td>reddit</td>\n",
       "      <td>9095-tgn</td>\n",
       "      <td>0.72</td>\n",
       "      <td>0.89</td>\n",
       "    </tr>\n",
       "    <tr>\n",
       "      <th>0</th>\n",
       "      <td>wikipedia</td>\n",
       "      <td>9095-tgn</td>\n",
       "      <td>0.44</td>\n",
       "      <td>0.64</td>\n",
       "    </tr>\n",
       "  </tbody>\n",
       "</table>\n",
       "</div>"
      ],
      "text/plain": [
       "        data    prefix  mrr  hit10\n",
       "0     lastfm  9095-tgn 0.46   0.72\n",
       "0       mooc  9095-tgn 0.71   0.95\n",
       "0     reddit  9095-tgn 0.72   0.89\n",
       "0  wikipedia  9095-tgn 0.44   0.64"
      ]
     },
     "execution_count": 16,
     "metadata": {},
     "output_type": "execute_result"
    }
   ],
   "source": [
    "df[cols].sort_values('data prefix'.split(), ascending=True)"
   ]
  },
  {
   "cell_type": "code",
   "execution_count": 17,
   "id": "9ed32084-b544-4b5c-89a4-b84baf148421",
   "metadata": {},
   "outputs": [
    {
     "data": {
      "text/html": [
       "<div>\n",
       "<style scoped>\n",
       "    .dataframe tbody tr th:only-of-type {\n",
       "        vertical-align: middle;\n",
       "    }\n",
       "\n",
       "    .dataframe tbody tr th {\n",
       "        vertical-align: top;\n",
       "    }\n",
       "\n",
       "    .dataframe thead th {\n",
       "        text-align: right;\n",
       "    }\n",
       "</style>\n",
       "<table border=\"1\" class=\"dataframe\">\n",
       "  <thead>\n",
       "    <tr style=\"text-align: right;\">\n",
       "      <th></th>\n",
       "      <th>data</th>\n",
       "      <th>prefix</th>\n",
       "      <th>mrr</th>\n",
       "      <th>hit10</th>\n",
       "    </tr>\n",
       "  </thead>\n",
       "  <tbody>\n",
       "  </tbody>\n",
       "</table>\n",
       "</div>"
      ],
      "text/plain": [
       "Empty DataFrame\n",
       "Columns: [data, prefix, mrr, hit10]\n",
       "Index: []"
      ]
     },
     "execution_count": 17,
     "metadata": {},
     "output_type": "execute_result"
    }
   ],
   "source": [
    "df[df.prefix == 'tgn-attn-edge0'][cols].sort_values('data'.split(), ascending=True)"
   ]
  },
  {
   "cell_type": "code",
   "execution_count": 18,
   "id": "ad8c0a57-be7c-4028-9805-72aff456ba9f",
   "metadata": {},
   "outputs": [
    {
     "data": {
      "text/html": [
       "<div>\n",
       "<style scoped>\n",
       "    .dataframe tbody tr th:only-of-type {\n",
       "        vertical-align: middle;\n",
       "    }\n",
       "\n",
       "    .dataframe tbody tr th {\n",
       "        vertical-align: top;\n",
       "    }\n",
       "\n",
       "    .dataframe thead tr th {\n",
       "        text-align: left;\n",
       "    }\n",
       "\n",
       "    .dataframe thead tr:last-of-type th {\n",
       "        text-align: right;\n",
       "    }\n",
       "</style>\n",
       "<table border=\"1\" class=\"dataframe\">\n",
       "  <thead>\n",
       "    <tr>\n",
       "      <th>data</th>\n",
       "      <th colspan=\"2\" halign=\"left\">lastfm</th>\n",
       "      <th colspan=\"2\" halign=\"left\">mooc</th>\n",
       "      <th colspan=\"2\" halign=\"left\">reddit</th>\n",
       "      <th colspan=\"2\" halign=\"left\">wikipedia</th>\n",
       "    </tr>\n",
       "    <tr>\n",
       "      <th></th>\n",
       "      <th>hit10</th>\n",
       "      <th>mrr</th>\n",
       "      <th>hit10</th>\n",
       "      <th>mrr</th>\n",
       "      <th>hit10</th>\n",
       "      <th>mrr</th>\n",
       "      <th>hit10</th>\n",
       "      <th>mrr</th>\n",
       "    </tr>\n",
       "    <tr>\n",
       "      <th>prefix</th>\n",
       "      <th></th>\n",
       "      <th></th>\n",
       "      <th></th>\n",
       "      <th></th>\n",
       "      <th></th>\n",
       "      <th></th>\n",
       "      <th></th>\n",
       "      <th></th>\n",
       "    </tr>\n",
       "  </thead>\n",
       "  <tbody>\n",
       "    <tr>\n",
       "      <th>9095-tgn</th>\n",
       "      <td>0.72</td>\n",
       "      <td>0.46</td>\n",
       "      <td>0.95</td>\n",
       "      <td>0.71</td>\n",
       "      <td>0.89</td>\n",
       "      <td>0.72</td>\n",
       "      <td>0.64</td>\n",
       "      <td>0.44</td>\n",
       "    </tr>\n",
       "  </tbody>\n",
       "</table>\n",
       "</div>"
      ],
      "text/plain": [
       "data     lastfm       mooc      reddit      wikipedia     \n",
       "          hit10  mrr hit10  mrr  hit10  mrr     hit10  mrr\n",
       "prefix                                                    \n",
       "9095-tgn   0.72 0.46  0.95 0.71   0.89 0.72      0.64 0.44"
      ]
     },
     "execution_count": 18,
     "metadata": {},
     "output_type": "execute_result"
    }
   ],
   "source": [
    "z = df[cols].pivot(columns='data', index='prefix', values='mrr hit10'.split()).reorder_levels([1, 0], 1).sort_index(axis=1)\n",
    "z"
   ]
  },
  {
   "cell_type": "code",
   "execution_count": 19,
   "id": "28a7027d-db03-4350-8587-80d9251a7bd3",
   "metadata": {},
   "outputs": [
    {
     "data": {
      "text/html": [
       "<style type=\"text/css\">\n",
       "#T_d8078_row0_col0, #T_d8078_row0_col1, #T_d8078_row0_col2, #T_d8078_row0_col3, #T_d8078_row0_col4, #T_d8078_row0_col5, #T_d8078_row0_col6, #T_d8078_row0_col7 {\n",
       "  background-color: lightgreen;\n",
       "}\n",
       "</style>\n",
       "<table id=\"T_d8078_\">\n",
       "  <thead>\n",
       "    <tr>\n",
       "      <th class=\"index_name level0\" >data</th>\n",
       "      <th class=\"col_heading level0 col0\" colspan=\"2\">lastfm</th>\n",
       "      <th class=\"col_heading level0 col2\" colspan=\"2\">mooc</th>\n",
       "      <th class=\"col_heading level0 col4\" colspan=\"2\">reddit</th>\n",
       "      <th class=\"col_heading level0 col6\" colspan=\"2\">wikipedia</th>\n",
       "    </tr>\n",
       "    <tr>\n",
       "      <th class=\"blank level1\" >&nbsp;</th>\n",
       "      <th class=\"col_heading level1 col0\" >hit10</th>\n",
       "      <th class=\"col_heading level1 col1\" >mrr</th>\n",
       "      <th class=\"col_heading level1 col2\" >hit10</th>\n",
       "      <th class=\"col_heading level1 col3\" >mrr</th>\n",
       "      <th class=\"col_heading level1 col4\" >hit10</th>\n",
       "      <th class=\"col_heading level1 col5\" >mrr</th>\n",
       "      <th class=\"col_heading level1 col6\" >hit10</th>\n",
       "      <th class=\"col_heading level1 col7\" >mrr</th>\n",
       "    </tr>\n",
       "    <tr>\n",
       "      <th class=\"index_name level0\" >prefix</th>\n",
       "      <th class=\"blank col0\" >&nbsp;</th>\n",
       "      <th class=\"blank col1\" >&nbsp;</th>\n",
       "      <th class=\"blank col2\" >&nbsp;</th>\n",
       "      <th class=\"blank col3\" >&nbsp;</th>\n",
       "      <th class=\"blank col4\" >&nbsp;</th>\n",
       "      <th class=\"blank col5\" >&nbsp;</th>\n",
       "      <th class=\"blank col6\" >&nbsp;</th>\n",
       "      <th class=\"blank col7\" >&nbsp;</th>\n",
       "    </tr>\n",
       "  </thead>\n",
       "  <tbody>\n",
       "    <tr>\n",
       "      <th id=\"T_d8078_level0_row0\" class=\"row_heading level0 row0\" >9095-tgn</th>\n",
       "      <td id=\"T_d8078_row0_col0\" class=\"data row0 col0\" >71.7</td>\n",
       "      <td id=\"T_d8078_row0_col1\" class=\"data row0 col1\" >45.6</td>\n",
       "      <td id=\"T_d8078_row0_col2\" class=\"data row0 col2\" >94.7</td>\n",
       "      <td id=\"T_d8078_row0_col3\" class=\"data row0 col3\" >71.0</td>\n",
       "      <td id=\"T_d8078_row0_col4\" class=\"data row0 col4\" >88.6</td>\n",
       "      <td id=\"T_d8078_row0_col5\" class=\"data row0 col5\" >71.7</td>\n",
       "      <td id=\"T_d8078_row0_col6\" class=\"data row0 col6\" >64.3</td>\n",
       "      <td id=\"T_d8078_row0_col7\" class=\"data row0 col7\" >44.4</td>\n",
       "    </tr>\n",
       "  </tbody>\n",
       "</table>\n"
      ],
      "text/plain": [
       "<pandas.io.formats.style.Styler at 0x7fb6e99446d0>"
      ]
     },
     "execution_count": 19,
     "metadata": {},
     "output_type": "execute_result"
    }
   ],
   "source": [
    "(100*z).style.format(precision=1).highlight_max(color='lightgreen', axis=0)"
   ]
  },
  {
   "cell_type": "code",
   "execution_count": null,
   "id": "a642a131-a452-4828-bdfb-763babf00af8",
   "metadata": {},
   "outputs": [],
   "source": []
  }
 ],
 "metadata": {
  "kernelspec": {
   "display_name": "conda_python3",
   "language": "python",
   "name": "conda_python3"
  },
  "language_info": {
   "codemirror_mode": {
    "name": "ipython",
    "version": 3
   },
   "file_extension": ".py",
   "mimetype": "text/x-python",
   "name": "python",
   "nbconvert_exporter": "python",
   "pygments_lexer": "ipython3",
   "version": "3.8.12"
  }
 },
 "nbformat": 4,
 "nbformat_minor": 5
}
